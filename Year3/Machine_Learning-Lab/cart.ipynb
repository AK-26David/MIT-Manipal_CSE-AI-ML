{
 "cells": [
  {
   "cell_type": "code",
   "execution_count": 3,
   "metadata": {},
   "outputs": [
    {
     "name": "stdout",
     "output_type": "stream",
     "text": [
      "Prediction: Yes\n",
      "Decision Tree: defaultdict(<class 'dict'>, {'column_name': 'Outlook', 'Overcast': 'Yes', 'Rain': defaultdict(<class 'dict'>, {'column_name': 'Wind', 'Strong': 'No', 'Weak': 'Yes'}), 'Sunny': defaultdict(<class 'dict'>, {'column_name': 'Humidity', 'High': 'No', 'Normal': 'Yes'})})\n"
     ]
    }
   ],
   "source": [
    "import pandas as pd\n",
    "import numpy as np\n",
    "from statistics import mode\n",
    "from collections import defaultdict\n",
    "\n",
    "def build_decision_tree(df: pd.DataFrame) -> dict:\n",
    "    # If all values in the target column are the same, return that value as a leaf node\n",
    "    if len(np.unique(df.iloc[:, -1])) == 1:\n",
    "        return df.iloc[0, -1]\n",
    "    \n",
    "    # If there are no columns left except the target, return the most common target value\n",
    "    if len(df.columns) == 1:\n",
    "        return mode(df.iloc[:, -1])\n",
    "\n",
    "    split_col = best_split_col(df)\n",
    "\n",
    "    tree = defaultdict(dict)\n",
    "    tree[\"column_name\"] = split_col\n",
    "\n",
    "    for value in np.unique(df[split_col]):\n",
    "        subset = df[df[split_col] == value].drop(columns=[split_col])\n",
    "        tree[value] = build_decision_tree(subset)\n",
    "        \n",
    "    return tree\n",
    "\n",
    "def predict(tree: dict, data: dict) -> str:\n",
    "    node = tree\n",
    "    while isinstance(node, dict):\n",
    "        col = node[\"column_name\"]\n",
    "        if data[col] in node:\n",
    "            node = node[data[col]]\n",
    "        else:\n",
    "            return \"Unknown\"  # For cases where the value does not exist in the tree\n",
    "    return node\n",
    "\n",
    "def best_split_col(df: pd.DataFrame) -> str:\n",
    "    best_col, best_delta = None, 0\n",
    "\n",
    "    for col in df.columns[:-1]:\n",
    "        if pd.api.types.is_numeric_dtype(df[col]) or df[col].dtype == 'object':  # Ensure column is either numeric or categorical\n",
    "            delta = gini_reduction(df, col)\n",
    "            if delta > best_delta:\n",
    "                best_delta, best_col = delta, col\n",
    "    \n",
    "    return best_col\n",
    "\n",
    "def gini_impurity(df: pd.DataFrame) -> float:\n",
    "    target_col = df.iloc[:, -1]\n",
    "    return 1 - sum((target_col.value_counts(normalize=True)) ** 2)\n",
    "\n",
    "def gini_reduction(df: pd.DataFrame, col: str) -> float:\n",
    "    total_gini = gini_impurity(df)\n",
    "    weighted_gini = sum(\n",
    "        (freq / len(df)) * gini_impurity(df[df[col] == x])\n",
    "        for x, freq in zip(*np.unique(df[col], return_counts=True))\n",
    "    )\n",
    "    return total_gini - weighted_gini\n",
    "\n",
    "# Load the dataset and build the tree\n",
    "path = \"data09_1.csv\"\n",
    "df = pd.read_csv(path)\n",
    "tree = build_decision_tree(df)\n",
    "test = {\"Outlook\": \"Sunny\", \"Temp\": \"Mild\", \"Humidity\": \"Normal\", \"Wind\": \"Weak\"}\n",
    "prediction = predict(tree, test)\n",
    "\n",
    "print(\"Prediction:\", prediction)\n",
    "print(\"Decision Tree:\", tree)\n"
   ]
  }
 ],
 "metadata": {
  "kernelspec": {
   "display_name": ".venv",
   "language": "python",
   "name": "python3"
  },
  "language_info": {
   "codemirror_mode": {
    "name": "ipython",
    "version": 3
   },
   "file_extension": ".py",
   "mimetype": "text/x-python",
   "name": "python",
   "nbconvert_exporter": "python",
   "pygments_lexer": "ipython3",
   "version": "3.9.6"
  }
 },
 "nbformat": 4,
 "nbformat_minor": 2
}
