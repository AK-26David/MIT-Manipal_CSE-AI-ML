{
 "cells": [
  {
   "cell_type": "markdown",
   "metadata": {},
   "source": [
    "# All Algorithims Practice #"
   ]
  },
  {
   "cell_type": "code",
   "execution_count": 2,
   "metadata": {},
   "outputs": [],
   "source": [
    "import numpy as np \n",
    "import pandas as pd\n",
    "import matplotlib.pyplot as plt"
   ]
  },
  {
   "cell_type": "markdown",
   "metadata": {},
   "source": [
    "### Linear Regression using Pedhazur and Calculus Method #"
   ]
  },
  {
   "cell_type": "code",
   "execution_count": 9,
   "metadata": {},
   "outputs": [],
   "source": [
    "# Step 1 - Mean Function #\n",
    "\n",
    "def mean(values):\n",
    "    return sum(values)/len(values)\n",
    "\n",
    "\n",
    "# Step 2 - Pedhazur Function\n",
    "def pedhazur_formula(X,y):\n",
    "    X_mean = mean(X)\n",
    "    y_mean = mean(y)\n",
    "    numerator = sum((X-X_mean) * (y-y_mean))\n",
    "    denominator = sum((X-X_mean) ** 2)\n",
    "    B1= numerator / denominator\n",
    "    B0 = y_mean - B1*X_mean\n",
    "    return B0, B1\n",
    "\n",
    "# Step 3- Insert Values\n",
    "\n",
    "\n",
    "B0_pedhazur, B1_pedhazur = pedhazur_formula(X,y)\n",
    "\n",
    "\n",
    "# Step 4 - Prediction Function\n",
    "def predict(X,B0,B1):\n",
    "    return B1 * X + B0\n",
    "\n",
    "\n",
    "# Step 5- Predict Y\n",
    "\n",
    "y_predict_pedhazur = predict(X,B0_pedhazur, B1_pedhazur)\n",
    "\n",
    "# Step 6 - Error functions\n",
    "\n",
    "def compute_MSE(y,y_pred):\n",
    "    return np.mean((y-y_pred) ** 2)\n",
    "\n",
    "def compute_RMSE(y,y_pred):\n",
    "    return np.sqrt(compute_MSE(y,y_pred))"
   ]
  },
  {
   "cell_type": "code",
   "execution_count": 10,
   "metadata": {},
   "outputs": [],
   "source": [
    "def mean(values):\n",
    "    return sum(values)/len(values)\n",
    "\n",
    "def calculus_method(X,y):\n",
    "    n=len(X)\n",
    "    X_mean = mean(X)\n",
    "    y_mean = mean(y)\n",
    "    numerator = sum((X * y)-(X_mean * y_mean))\n",
    "    denominator = sum((X ** 2) - (n * X_mean) ** 2)\n",
    "    B1 = numerator / denominator\n",
    "    B0 = y_mean - B1 * X_mean\n",
    "    return B1 , B0 \n",
    "\n",
    "# Get the coefficients using the calculus method\n",
    "B0_calculus, B1_calculus = calculus_method(X, y)\n",
    "\n",
    "# Define the predict function\n",
    "def predict(X, B0, B1):\n",
    "    return B0 + B1 * X  # Use X (not x)\n",
    "\n",
    "# Predict y values based on the model\n",
    "y_pred_calculus = predict(X, B0_calculus, B1_calculus)\n",
    "\n",
    "# Define the RMSE function to calculate error\n",
    "def rmse(y_true, y_pred):\n",
    "    return np.sqrt(np.mean((y_true - y_pred) ** 2))\n",
    "\n",
    "# Calculate RMSE for the calculus method predictions\n",
    "rmse_calculus = rmse(y, y_pred_calculus)\n",
    "\n",
    "\n"
   ]
  },
  {
   "cell_type": "markdown",
   "metadata": {},
   "source": []
  }
 ],
 "metadata": {
  "kernelspec": {
   "display_name": "base",
   "language": "python",
   "name": "python3"
  },
  "language_info": {
   "codemirror_mode": {
    "name": "ipython",
    "version": 3
   },
   "file_extension": ".py",
   "mimetype": "text/x-python",
   "name": "python",
   "nbconvert_exporter": "python",
   "pygments_lexer": "ipython3",
   "version": "3.12.4"
  }
 },
 "nbformat": 4,
 "nbformat_minor": 2
}
