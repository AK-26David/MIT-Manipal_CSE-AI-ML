{
 "cells": [
  {
   "cell_type": "code",
   "execution_count": 1,
   "id": "53ee09fe",
   "metadata": {},
   "outputs": [],
   "source": [
    "import pandas as pd\n",
    "import numpy as np\n",
    "from collections import defaultdict\n",
    "from sklearn.model_selection import train_test_split\n",
    "from sklearn.metrics import accuracy_score, precision_score, recall_score"
   ]
  },
  {
   "cell_type": "markdown",
   "id": "cc7349f3",
   "metadata": {},
   "source": [
    "## Q1"
   ]
  },
  {
   "cell_type": "code",
   "execution_count": 2,
   "id": "88c30dfa",
   "metadata": {},
   "outputs": [
    {
     "name": "stdout",
     "output_type": "stream",
     "text": [
      "P(H | A): 0.6923\n"
     ]
    }
   ],
   "source": [
    "# Given data\n",
    "P_H = 0.60\n",
    "P_D = 0.40\n",
    "P_A_given_H = 0.30\n",
    "P_A_given_D = 0.20\n",
    "\n",
    "# Calculate P(A)\n",
    "P_A = P_A_given_H * P_H + P_A_given_D * P_D\n",
    "\n",
    "# Calculate P(H | A) using Bayes' theorem\n",
    "P_H_given_A = (P_A_given_H * P_H) / P_A\n",
    "\n",
    "print(f\"P(H | A): {P_H_given_A:.4f}\")\n"
   ]
  },
  {
   "cell_type": "code",
   "execution_count": 3,
   "id": "b0caa8d8",
   "metadata": {},
   "outputs": [
    {
     "name": "stdout",
     "output_type": "stream",
     "text": [
      "P(D | T^+): 0.3333\n"
     ]
    }
   ],
   "source": [
    "# Given data\n",
    "P_D = 0.01\n",
    "P_not_D = 1 - P_D\n",
    "P_T_given_D = 0.99\n",
    "P_T_given_not_D = 0.02\n",
    "\n",
    "# Calculate P(T^+)\n",
    "P_T = P_T_given_D * P_D + P_T_given_not_D * P_not_D\n",
    "\n",
    "# Calculate P(D | T^+) using Bayes' theorem\n",
    "P_D_given_T = (P_T_given_D * P_D) / P_T\n",
    "\n",
    "print(f\"P(D | T^+): {P_D_given_T:.4f}\")\n"
   ]
  },
  {
   "cell_type": "markdown",
   "id": "e7149910",
   "metadata": {},
   "source": [
    "## Q2"
   ]
  },
  {
   "cell_type": "code",
   "execution_count": 4,
   "id": "acac04ca",
   "metadata": {},
   "outputs": [
    {
     "name": "stdout",
     "output_type": "stream",
     "text": [
      "Data point 1: {'age': 0, 'income': 1, 'student': 0, 'credit_rating': 0} => Prediction: 1\n",
      "Data point 2: {'age': 2, 'income': 2, 'student': 1, 'credit_rating': 1} => Prediction: 0\n"
     ]
    }
   ],
   "source": [
    "# Load dataset\n",
    "def load_data(file_path):\n",
    "    return pd.read_csv(file_path)\n",
    "\n",
    "# Encode categorical data\n",
    "def encode_data(df):\n",
    "    encoders = {}\n",
    "    for column in df.columns:\n",
    "        if df[column].dtype == 'object':\n",
    "            unique_values = df[column].unique()\n",
    "            encoders[column] = {value: idx for idx, value in enumerate(unique_values)}\n",
    "            df[column] = df[column].map(encoders[column])\n",
    "    return df, encoders\n",
    "\n",
    "# Calculate probabilities\n",
    "def calculate_probabilities(df):\n",
    "    class_probs = df['buys_computer'].value_counts(normalize=True).to_dict()\n",
    "    conditional_probs = defaultdict(lambda: defaultdict(lambda: defaultdict(int)))\n",
    "\n",
    "    for index, row in df.iterrows():\n",
    "        label = row['buys_computer']\n",
    "        for col in df.columns[:-1]:  # Exclude 'buys_computer'\n",
    "            value = row[col]\n",
    "            conditional_probs[col][value][label] += 1\n",
    "\n",
    "    # Normalize probabilities\n",
    "    total_counts = df['buys_computer'].value_counts().to_dict()\n",
    "    for col in conditional_probs:\n",
    "        for value in conditional_probs[col]:\n",
    "            for label in conditional_probs[col][value]:\n",
    "                conditional_probs[col][value][label] /= total_counts.get(label, 1)\n",
    "    \n",
    "    return class_probs, conditional_probs\n",
    "\n",
    "# Predict function\n",
    "def predict(class_probs, conditional_probs, encoders, data_point):\n",
    "    labels = class_probs.keys()\n",
    "    probabilities = {}\n",
    "\n",
    "    for label in labels:\n",
    "        prob = class_probs[label]\n",
    "        for col in data_point.index:\n",
    "            value = data_point[col]\n",
    "            # Handle unseen values by using a small smoothing factor\n",
    "            prob *= conditional_probs[col].get(value, {}).get(label, 1e-6)\n",
    "        probabilities[label] = prob\n",
    "\n",
    "    # Normalize probabilities\n",
    "    total_prob = sum(probabilities.values())\n",
    "    for label in probabilities:\n",
    "        probabilities[label] /= total_prob\n",
    "\n",
    "    return max(probabilities, key=probabilities.get)\n",
    "\n",
    "# Main execution\n",
    "def main():\n",
    "    # Load the dataset\n",
    "    df = load_data('comp.csv')\n",
    "    \n",
    "    # Encode the categorical features\n",
    "    df_encoded, encoders = encode_data(df)\n",
    "    \n",
    "    # Calculate probabilities\n",
    "    class_probs, conditional_probs = calculate_probabilities(df_encoded)\n",
    "\n",
    "    # Test data points\n",
    "    test_data = pd.DataFrame([\n",
    "        {'age': 0, 'income': 1, 'student': 0, 'credit_rating': 0}, # Encoded values for '<=30', 'medium', 'no', 'fair'\n",
    "        {'age': 2, 'income': 2, 'student': 1, 'credit_rating': 1}  # Encoded values for '>40', 'low', 'yes', 'excellent'\n",
    "    ])\n",
    "\n",
    "    # Predict and display results\n",
    "    for i, row in test_data.iterrows():\n",
    "        result = predict(class_probs, conditional_probs, encoders, row)\n",
    "        print(f\"Data point {i + 1}: {row.to_dict()} => Prediction: {result}\")\n",
    "\n",
    "if __name__ == \"__main__\":\n",
    "    main()\n"
   ]
  },
  {
   "cell_type": "markdown",
   "id": "16971a64",
   "metadata": {},
   "source": [
    "## Q3"
   ]
  },
  {
   "cell_type": "code",
   "execution_count": 5,
   "id": "44819f19",
   "metadata": {},
   "outputs": [
    {
     "name": "stdout",
     "output_type": "stream",
     "text": [
      "Accuracy: 1.0000\n",
      "Precision: 0.0000\n",
      "Recall: 0.0000\n",
      "Sentence: 'A very close game' => Predicted Tag: Sports\n"
     ]
    },
    {
     "name": "stderr",
     "output_type": "stream",
     "text": [
      "/usr/lib/python3/dist-packages/sklearn/metrics/_classification.py:1509: UndefinedMetricWarning: Precision is ill-defined and being set to 0.0 due to no predicted samples. Use `zero_division` parameter to control this behavior.\n",
      "  _warn_prf(average, modifier, f\"{metric.capitalize()} is\", len(result))\n",
      "/usr/lib/python3/dist-packages/sklearn/metrics/_classification.py:1509: UndefinedMetricWarning: Recall is ill-defined and being set to 0.0 due to no true samples. Use `zero_division` parameter to control this behavior.\n",
      "  _warn_prf(average, modifier, f\"{metric.capitalize()} is\", len(result))\n"
     ]
    }
   ],
   "source": [
    "# Load the dataset\n",
    "def load_data(file_path):\n",
    "    return pd.read_csv(file_path)\n",
    "\n",
    "# Preprocess and tokenize text\n",
    "def preprocess_text(text):\n",
    "    return text.lower().replace('\"', '').split()\n",
    "\n",
    "# Calculate probabilities\n",
    "def calculate_probabilities(df):\n",
    "    class_probs = df['Tag'].value_counts(normalize=True).to_dict()\n",
    "    word_counts = {tag: defaultdict(int) for tag in class_probs.keys()}\n",
    "    class_word_counts = defaultdict(int)\n",
    "    \n",
    "    for index, row in df.iterrows():\n",
    "        tag = row['Tag']\n",
    "        words = preprocess_text(row['Text'])\n",
    "        for word in words:\n",
    "            word_counts[tag][word] += 1\n",
    "            class_word_counts[tag] += 1\n",
    "\n",
    "    vocab = set(word for counts in word_counts.values() for word in counts)\n",
    "    vocab_size = len(vocab)\n",
    "    total_documents = len(df)\n",
    "    \n",
    "    conditional_probs = defaultdict(lambda: defaultdict(float))\n",
    "    for tag, counts in word_counts.items():\n",
    "        total_words = class_word_counts[tag]\n",
    "        for word in vocab:\n",
    "            conditional_probs[tag][word] = (counts[word] + 1) / (total_words + vocab_size)\n",
    "    \n",
    "    return class_probs, conditional_probs, vocab\n",
    "\n",
    "# Predict function\n",
    "def predict(class_probs, conditional_probs, vocab, text):\n",
    "    words = preprocess_text(text)\n",
    "    probabilities = {}\n",
    "    \n",
    "    for tag in class_probs:\n",
    "        prob = class_probs[tag]\n",
    "        for word in words:\n",
    "            prob *= conditional_probs[tag].get(word, 1 / (sum(conditional_probs[tag].values()) + len(vocab)))\n",
    "        probabilities[tag] = prob\n",
    "    \n",
    "    total_prob = sum(probabilities.values())\n",
    "    for tag in probabilities:\n",
    "        probabilities[tag] /= total_prob\n",
    "\n",
    "    return max(probabilities, key=probabilities.get)\n",
    "\n",
    "# Evaluate the model\n",
    "def evaluate_model(df, class_probs, conditional_probs, vocab):\n",
    "    y_true = df['Tag']\n",
    "    y_pred = df['Text'].apply(lambda text: predict(class_probs, conditional_probs, vocab, text))\n",
    "    \n",
    "    accuracy = accuracy_score(y_true, y_pred)\n",
    "    precision = precision_score(y_true, y_pred, pos_label='Sports', average='binary')\n",
    "    recall = recall_score(y_true, y_pred, pos_label='Sports', average='binary')\n",
    "    \n",
    "    return accuracy, precision, recall\n",
    "\n",
    "# Main execution\n",
    "def main():\n",
    "    # Load the dataset\n",
    "    df = load_data('text.csv')\n",
    "    \n",
    "    # Calculate probabilities\n",
    "    class_probs, conditional_probs, vocab = calculate_probabilities(df)\n",
    "    \n",
    "    # Split dataset into training and testing\n",
    "    train_df, test_df = train_test_split(df, test_size=0.4, random_state=42)\n",
    "    \n",
    "    # Evaluate the model\n",
    "    accuracy, precision, recall = evaluate_model(test_df, class_probs, conditional_probs, vocab)\n",
    "    \n",
    "    print(f\"Accuracy: {accuracy:.4f}\")\n",
    "    print(f\"Precision: {precision:.4f}\")\n",
    "    print(f\"Recall: {recall:.4f}\")\n",
    "    \n",
    "    # Predict the tag for a new sentence\n",
    "    test_sentence = \"A very close game\"\n",
    "    prediction = predict(class_probs, conditional_probs, vocab, test_sentence)\n",
    "    print(f\"Sentence: '{test_sentence}' => Predicted Tag: {prediction}\")\n",
    "\n",
    "if __name__ == \"__main__\":\n",
    "    main()\n"
   ]
  },
  {
   "cell_type": "code",
   "execution_count": null,
   "id": "18d4a3cf",
   "metadata": {},
   "outputs": [],
   "source": []
  }
 ],
 "metadata": {
  "kernelspec": {
   "display_name": "Python 3 (ipykernel)",
   "language": "python",
   "name": "python3"
  },
  "language_info": {
   "codemirror_mode": {
    "name": "ipython",
    "version": 3
   },
   "file_extension": ".py",
   "mimetype": "text/x-python",
   "name": "python",
   "nbconvert_exporter": "python",
   "pygments_lexer": "ipython3",
   "version": "3.12.3"
  }
 },
 "nbformat": 4,
 "nbformat_minor": 5
}
