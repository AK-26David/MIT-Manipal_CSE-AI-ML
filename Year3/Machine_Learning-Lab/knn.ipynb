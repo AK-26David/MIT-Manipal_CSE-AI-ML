{
 "cells": [
  {
   "cell_type": "markdown",
   "metadata": {},
   "source": [
    "### K Nearest Neighbors"
   ]
  },
  {
   "cell_type": "code",
   "execution_count": 25,
   "metadata": {},
   "outputs": [
    {
     "name": "stdout",
     "output_type": "stream",
     "text": [
      "Predictions: [0 1]\n"
     ]
    }
   ],
   "source": [
    "import numpy as np\n",
    "from collections import Counter\n",
    "\n",
    "# Calculate Euclidean distance between two points\n",
    "def euclidean_distance(x1, x2):\n",
    "    return np.sqrt(np.sum((x1 - x2)**2))\n",
    "\n",
    "# KNN Algorithm for Classification\n",
    "def knn_classify(X_train, y_train, X_test, k=3):\n",
    "    predictions = []\n",
    "    \n",
    "    for x_test in X_test:\n",
    "        # Calculate distances from the test point to all training points\n",
    "        distances = [euclidean_distance(x_test, x_train) for x_train in X_train]\n",
    "        \n",
    "        # Sort distances and get indices of k-nearest neighbors\n",
    "        k_indices = np.argsort(distances)[:k]\n",
    "        \n",
    "        # Get the labels of the k-nearest neighbors\n",
    "        k_nearest_labels = [y_train[i] for i in k_indices]\n",
    "        \n",
    "        # Get the most common label among the k neighbors\n",
    "        most_common = Counter(k_nearest_labels).most_common(1)\n",
    "        predictions.append(most_common[0][0])\n",
    "    \n",
    "    return np.array(predictions)\n",
    "\n",
    "# Example dataset (replace with your own data)\n",
    "# Training data\n",
    "X_train = np.array([[5.1, 3.5], [4.9, 3.0], [4.7, 3.2], [4.6, 3.1], [5.0, 3.6],\n",
    "                   [6.7, 3.0], [6.3, 2.5], [6.5, 3.0], [6.2, 3.4], [5.9, 3.0]])\n",
    "\n",
    "y_train = np.array([0, 0, 0, 0, 0, 1, 1, 1, 1, 1])\n",
    "\n",
    "# Test data\n",
    "X_test = np.array([[5.0, 3.5], [6.0, 3.1]])\n",
    "\n",
    "# Run KNN Classification\n",
    "predictions = knn_classify(X_train, y_train, X_test, k=3)\n",
    "print(\"Predictions:\", predictions)\n"
   ]
  }
 ],
 "metadata": {
  "kernelspec": {
   "display_name": ".venv",
   "language": "python",
   "name": "python3"
  },
  "language_info": {
   "codemirror_mode": {
    "name": "ipython",
    "version": 3
   },
   "file_extension": ".py",
   "mimetype": "text/x-python",
   "name": "python",
   "nbconvert_exporter": "python",
   "pygments_lexer": "ipython3",
   "version": "3.9.6"
  }
 },
 "nbformat": 4,
 "nbformat_minor": 2
}
