{
 "cells": [
  {
   "cell_type": "markdown",
   "metadata": {},
   "source": [
    "# Data Preprocessing and Regression #"
   ]
  },
  {
   "cell_type": "markdown",
   "metadata": {},
   "source": [
    "### Question 1 ###"
   ]
  },
  {
   "cell_type": "code",
   "execution_count": 17,
   "metadata": {},
   "outputs": [],
   "source": [
    "import numpy as np\n",
    "import pandas as pd\n",
    "import matplotlib.pyplot as plt "
   ]
  },
  {
   "cell_type": "code",
   "execution_count": 3,
   "metadata": {},
   "outputs": [
    {
     "name": "stdout",
     "output_type": "stream",
     "text": [
      "     age     sex steroid  antivirals fatigue malaise anorexia liver_big  \\\n",
      "0     30    male   False       False   False   False    False     False   \n",
      "1     50  female   False       False    True   False    False     False   \n",
      "2     78  female    True       False    True   False    False      True   \n",
      "3     31  female     NaN        True   False   False    False      True   \n",
      "4     34  female    True       False   False   False    False      True   \n",
      "..   ...     ...     ...         ...     ...     ...      ...       ...   \n",
      "150   46  female    True       False    True    True     True      True   \n",
      "151   44  female    True       False    True   False    False      True   \n",
      "152   61  female   False       False    True    True    False     False   \n",
      "153   53    male   False       False    True   False    False      True   \n",
      "154   43  female    True       False    True   False    False      True   \n",
      "\n",
      "    liver_firm spleen_palpable spiders ascites varices  bilirubin  \\\n",
      "0        False           False   False   False   False        1.0   \n",
      "1        False           False   False   False   False        0.9   \n",
      "2        False           False   False   False   False        0.7   \n",
      "3        False           False   False   False   False        0.7   \n",
      "4        False           False   False   False   False        1.0   \n",
      "..         ...             ...     ...     ...     ...        ...   \n",
      "150      False           False    True    True    True        7.6   \n",
      "151       True           False   False   False   False        0.9   \n",
      "152       True           False    True   False   False        0.8   \n",
      "153      False            True    True   False    True        1.5   \n",
      "154      False            True    True    True   False        1.2   \n",
      "\n",
      "     alk_phosphate   sgot  albumin  protime  histology class  \n",
      "0             85.0   18.0      4.0      NaN      False  live  \n",
      "1            135.0   42.0      3.5      NaN      False  live  \n",
      "2             96.0   32.0      4.0      NaN      False  live  \n",
      "3             46.0   52.0      4.0     80.0      False  live  \n",
      "4              NaN  200.0      4.0      NaN      False  live  \n",
      "..             ...    ...      ...      ...        ...   ...  \n",
      "150            NaN  242.0      3.3     50.0       True   die  \n",
      "151          126.0  142.0      4.3      NaN       True  live  \n",
      "152           75.0   20.0      4.1      NaN       True  live  \n",
      "153           81.0   19.0      4.1     48.0       True  live  \n",
      "154          100.0   19.0      3.1     42.0       True   die  \n",
      "\n",
      "[155 rows x 20 columns]\n"
     ]
    }
   ],
   "source": [
    "df=pd.read_csv('hepatitis_csv.csv')\n",
    "print(df)"
   ]
  },
  {
   "cell_type": "code",
   "execution_count": 4,
   "metadata": {},
   "outputs": [],
   "source": [
    "columns_to_drop=['spiders']\n",
    "data = df.drop(columns=columns_to_drop, axis=1)"
   ]
  },
  {
   "cell_type": "code",
   "execution_count": 5,
   "metadata": {},
   "outputs": [],
   "source": [
    "data = data.dropna()"
   ]
  },
  {
   "cell_type": "code",
   "execution_count": 6,
   "metadata": {},
   "outputs": [],
   "source": [
    "data=pd.get_dummies(data , drop_first=True)"
   ]
  },
  {
   "cell_type": "code",
   "execution_count": 9,
   "metadata": {},
   "outputs": [],
   "source": [
    "for column in data.columns:\n",
    "    if data[column].isnull().sum()>0:\n",
    "        data[column].fillna(data[column].mean(), inplace=True)"
   ]
  },
  {
   "cell_type": "code",
   "execution_count": 10,
   "metadata": {},
   "outputs": [],
   "source": [
    "data_numpy=data.to_numpy()"
   ]
  },
  {
   "cell_type": "code",
   "execution_count": 12,
   "metadata": {},
   "outputs": [
    {
     "data": {
      "text/plain": [
       "((64, 18), (16, 18), (64,), (16,))"
      ]
     },
     "execution_count": 12,
     "metadata": {},
     "output_type": "execute_result"
    }
   ],
   "source": [
    "np.random.seed(42)\n",
    "np.random.shuffle(data_numpy)\n",
    "X=data_numpy[:,:-1]\n",
    "y=data_numpy[:,-1]\n",
    "train_size=int(0.8 * len(data_numpy))\n",
    "X_train, X_test = X[:train_size], X[train_size:]\n",
    "y_train, y_test = y[:train_size], y[train_size:]\n",
    "X_train.shape, X_test.shape, y_train.shape, y_test.shape\n"
   ]
  },
  {
   "cell_type": "markdown",
   "metadata": {},
   "source": [
    "### Question 2 ###"
   ]
  },
  {
   "cell_type": "code",
   "execution_count": 33,
   "metadata": {},
   "outputs": [
    {
     "name": "stdout",
     "output_type": "stream",
     "text": [
      "   Study_time  Score\n",
      "0           1      2\n",
      "1           2      4\n",
      "2           3      6\n",
      "3           4      8\n",
      "4           5     10\n",
      "5           6     12\n",
      "6           7     14\n",
      "7           8     16\n",
      "8           9     18\n",
      "9          10     20\n"
     ]
    }
   ],
   "source": [
    "data=pd.read_excel('data.xlsx')\n",
    "print(df)"
   ]
  },
  {
   "cell_type": "code",
   "execution_count": 34,
   "metadata": {},
   "outputs": [],
   "source": [
    "X = data['Study_time'].values\n",
    "y = data['Score'].values"
   ]
  },
  {
   "cell_type": "code",
   "execution_count": 35,
   "metadata": {},
   "outputs": [],
   "source": [
    "def mean(values):\n",
    "    return sum(values)/len(values)"
   ]
  },
  {
   "cell_type": "code",
   "execution_count": 37,
   "metadata": {},
   "outputs": [],
   "source": [
    "def pedhazurs_formula(X,y):\n",
    "    x_mean=mean(X)\n",
    "    y_mean=mean(y)\n",
    "\n",
    "    numerator=sum((X-x_mean)*(y-y_mean))\n",
    "    denominator=sum((X-x_mean) ** 2)\n",
    "\n",
    "    B1=numerator/denominator\n",
    "\n",
    "    B0 = y_mean-(B1*x_mean)\n",
    "\n",
    "    return B0,B1\n",
    "\n",
    "B0_pedhazur,B1_pedhazur=pedhazurs_formula(X,y)\n",
    "\n",
    "def predict(X,B0,B1):\n",
    "    return B0+(B1*X)\n",
    "\n",
    "y_pred_pedhazur=predict(X,B0_pedhazur,B1_pedhazur)\n",
    "\n",
    "def rmse(y_true,y_pred):\n",
    "    return np.sqrt(np.mean((y_true-y_pred) ** 2))\n",
    "\n",
    "rmse_pedhazur = rmse(y,y_pred_pedhazur)"
   ]
  },
  {
   "cell_type": "code",
   "execution_count": 40,
   "metadata": {},
   "outputs": [],
   "source": [
    "def calculus_method(X, y):\n",
    "    n = len(X)\n",
    "    # Formula for B1 (slope)\n",
    "    numerator = np.sum((X * y)) - n * np.mean(X) * np.mean(y)\n",
    "    denominator = np.sum(X ** 2) - n * np.mean(X) ** 2\n",
    "    B1 = numerator / denominator\n",
    "    # Formula for B0 (intercept)\n",
    "    B0 = np.mean(y) - B1 * np.mean(X)\n",
    "    return B0, B1\n",
    "\n",
    "# Get the coefficients using the calculus method\n",
    "B0_calculus, B1_calculus = calculus_method(X, y)\n",
    "\n",
    "# Define the predict function\n",
    "def predict(X, B0, B1):\n",
    "    return B0 + B1 * X  # Use X (not x)\n",
    "\n",
    "# Predict y values based on the model\n",
    "y_pred_calculus = predict(X, B0_calculus, B1_calculus)\n",
    "\n",
    "# Define the RMSE function to calculate error\n",
    "def rmse(y_true, y_pred):\n",
    "    return np.sqrt(np.mean((y_true - y_pred) ** 2))\n",
    "\n",
    "# Calculate RMSE for the calculus method predictions\n",
    "rmse_calculus = rmse(y, y_pred_calculus)\n"
   ]
  },
  {
   "cell_type": "code",
   "execution_count": 41,
   "metadata": {},
   "outputs": [
    {
     "data": {
      "image/png": "[encoded data removed]",
      "text/plain": [
       "<Figure size 640x480 with 1 Axes>"
      ]
     },
     "metadata": {},
     "output_type": "display_data"
    }
   ],
   "source": [
    "plt.scatter(X, y, color='red', label='Data Points')  # Red points for actual data\n",
    "plt.plot(X, y_pred_pedhazur, color='blue', label='Pedhazur Prediction')  # Blue line for Pedhazur prediction\n",
    "plt.plot(X, y_pred_calculus, color='green', label='Calculus Prediction', linestyle='--')  # Green dashed line for Calculus prediction\n",
    "plt.xlabel('Study Time (hours)')\n",
    "plt.ylabel('Score (out of 10)')\n",
    "plt.legend()\n",
    "plt.title('Study Time vs Score Regression')\n",
    "plt.show()"
   ]
  },
  {
   "cell_type": "code",
   "execution_count": 42,
   "metadata": {},
   "outputs": [],
   "source": [
    "study_time = 10\n",
    "predicted_score_pedhazur = predict(study_time, B0_pedhazur, B1_pedhazur)\n",
    "predicted_score_calculus = predict(study_time, B0_calculus, B1_calculus)"
   ]
  },
  {
   "cell_type": "code",
   "execution_count": 43,
   "metadata": {},
   "outputs": [
    {
     "name": "stdout",
     "output_type": "stream",
     "text": [
      "Pedhazur Formula Coefficients: B0 = 0.0, B1 = 2.0\n",
      "Calculus Method Coefficients: B0 = 0.0, B1 = 2.0\n",
      "RMSE (Pedhazur): 0.0\n",
      "RMSE (Calculus): 0.0\n",
      "Predicted Score for 10 hours (Pedhazur): 20.0\n",
      "Predicted Score for 10 hours (Calculus): 20.0\n"
     ]
    }
   ],
   "source": [
    "print(f\"Pedhazur Formula Coefficients: B0 = {B0_pedhazur}, B1 = {B1_pedhazur}\")\n",
    "print(f\"Calculus Method Coefficients: B0 = {B0_calculus}, B1 = {B1_calculus}\")\n",
    "print(f\"RMSE (Pedhazur): {rmse_pedhazur}\")\n",
    "print(f\"RMSE (Calculus): {rmse_calculus}\")\n",
    "print(f\"Predicted Score for 10 hours (Pedhazur): {predicted_score_pedhazur}\")\n",
    "print(f\"Predicted Score for 10 hours (Calculus): {predicted_score_calculus}\")"
   ]
  }
 ],
 "metadata": {
  "kernelspec": {
   "display_name": "base",
   "language": "python",
   "name": "python3"
  },
  "language_info": {
   "codemirror_mode": {
    "name": "ipython",
    "version": 3
   },
   "file_extension": ".py",
   "mimetype": "text/x-python",
   "name": "python",
   "nbconvert_exporter": "python",
   "pygments_lexer": "ipython3",
   "version": "3.12.4"
  }
 },
 "nbformat": 4,
 "nbformat_minor": 2
}
