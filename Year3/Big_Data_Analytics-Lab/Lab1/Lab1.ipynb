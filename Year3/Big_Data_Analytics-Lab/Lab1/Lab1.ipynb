{
 "cells": [
  {
   "cell_type": "markdown",
   "metadata": {},
   "source": [
    "# Lab 1 - Introduction to Pyspark #"
   ]
  },
  {
   "cell_type": "code",
   "execution_count": 5,
   "metadata": {},
   "outputs": [],
   "source": [
    "from pyspark.sql import SparkSession\n",
    "spark = SparkSession.builder.appName(\"Lab1\").getOrCreate()"
   ]
  },
  {
   "cell_type": "markdown",
   "metadata": {},
   "source": [
    "### Q1) Write a Pyspark program to square a set of integers"
   ]
  },
  {
   "cell_type": "code",
   "execution_count": 6,
   "metadata": {},
   "outputs": [
    {
     "name": "stdout",
     "output_type": "stream",
     "text": [
      "Answer:[1, 4, 9, 16, 25]\n"
     ]
    }
   ],
   "source": [
    "listnum = spark.sparkContext.parallelize([1, 2, 3, 4, 5])\n",
    "\n",
    "sum_of_squares = listnum.map(lambda x: x * x)\n",
    "sum_of_squares = sum_of_squares.collect()\n",
    "print(f\"Answer:{sum_of_squares}\")\n",
    "\n"
   ]
  },
  {
   "cell_type": "markdown",
   "metadata": {},
   "source": [
    "### Q2) Write a Pyspark program to find the maximum from the set of integers"
   ]
  },
  {
   "cell_type": "code",
   "execution_count": 7,
   "metadata": {},
   "outputs": [
    {
     "name": "stdout",
     "output_type": "stream",
     "text": [
      "The maximum value is: 5\n"
     ]
    }
   ],
   "source": [
    "max_value = listnum.max()\n",
    "print(f\"The maximum value is: {max_value}\")"
   ]
  },
  {
   "cell_type": "markdown",
   "metadata": {},
   "source": [
    "### Q3) Write a Pyspark program to find the average of the numbers from the list"
   ]
  },
  {
   "cell_type": "code",
   "execution_count": 8,
   "metadata": {},
   "outputs": [
    {
     "name": "stdout",
     "output_type": "stream",
     "text": [
      "The average value is: 3.0\n"
     ]
    }
   ],
   "source": [
    "total_sum = listnum.reduce(lambda x, y: x + y)\n",
    "count = listnum.count()\n",
    "average = total_sum / count\n",
    "print(f\"The average value is: {average}\")\n",
    "\n"
   ]
  },
  {
   "cell_type": "markdown",
   "metadata": {},
   "source": [
    "### Q4) Demonstrate how to read a CSV file into a PySpark DataFrame"
   ]
  },
  {
   "cell_type": "code",
   "execution_count": 10,
   "metadata": {},
   "outputs": [],
   "source": [
    "csv_file_path = \"sample.csv\"\n",
    "df = spark.read.csv(csv_file_path, header=True, inferSchema=True)"
   ]
  },
  {
   "cell_type": "markdown",
   "metadata": {},
   "source": [
    "### Q5) Use PySpark commands to display the first few rows and schema of a DataFrame."
   ]
  },
  {
   "cell_type": "code",
   "execution_count": 11,
   "metadata": {},
   "outputs": [
    {
     "name": "stdout",
     "output_type": "stream",
     "text": [
      "+------+-------+------+------+------+\n",
      "|    ml|    bda|   ann|   fcv|   eom|\n",
      "+------+-------+------+------+------+\n",
      "|  good|  vgood|  good| vgood|  good|\n",
      "|  high|    low|   med|  high|   low|\n",
      "|python|pyspark|python|opencv|theory|\n",
      "|    10|      5|     8|     9|     7|\n",
      "+------+-------+------+------+------+\n",
      "\n",
      "root\n",
      " |-- ml: string (nullable = true)\n",
      " |-- bda: string (nullable = true)\n",
      " |-- ann: string (nullable = true)\n",
      " |-- fcv: string (nullable = true)\n",
      " |-- eom: string (nullable = true)\n",
      "\n"
     ]
    }
   ],
   "source": [
    "df.show()\n",
    "df.printSchema()\n"
   ]
  },
  {
   "cell_type": "markdown",
   "metadata": {},
   "source": [
    "### Q6) Calculate basic summary statistics for a specific column in the DataFrame."
   ]
  },
  {
   "cell_type": "code",
   "execution_count": 12,
   "metadata": {},
   "outputs": [
    {
     "name": "stdout",
     "output_type": "stream",
     "text": [
      "+-------+------+-----+------+-----+------+\n",
      "|summary|    ml|  bda|   ann|  fcv|   eom|\n",
      "+-------+------+-----+------+-----+------+\n",
      "|  count|     4|    4|     4|    4|     4|\n",
      "|   mean|  10.0|  5.0|   8.0|  9.0|   7.0|\n",
      "| stddev|  null| null|  null| null|  null|\n",
      "|    min|    10|    5|     8|    9|     7|\n",
      "|    max|python|vgood|python|vgood|theory|\n",
      "+-------+------+-----+------+-----+------+\n",
      "\n"
     ]
    }
   ],
   "source": [
    "df.describe().show()"
   ]
  },
  {
   "cell_type": "code",
   "execution_count": null,
   "metadata": {},
   "outputs": [],
   "source": []
  }
 ],
 "metadata": {
  "kernelspec": {
   "display_name": "Python 3",
   "language": "python",
   "name": "python3"
  },
  "language_info": {
   "codemirror_mode": {
    "name": "ipython",
    "version": 3
   },
   "file_extension": ".py",
   "mimetype": "text/x-python",
   "name": "python",
   "nbconvert_exporter": "python",
   "pygments_lexer": "ipython3",
   "version": "3.7.0"
  }
 },
 "nbformat": 4,
 "nbformat_minor": 2
}
