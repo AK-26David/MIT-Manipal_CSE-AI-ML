{
 "cells": [
  {
   "cell_type": "markdown",
   "metadata": {},
   "source": [
    "# Recomendation Systems #"
   ]
  },
  {
   "cell_type": "code",
   "execution_count": 2,
   "metadata": {},
   "outputs": [],
   "source": [
    "from pyspark.sql import SparkSession\n",
    "from pyspark.ml.recommendation import ALS\n",
    "from pyspark.ml.evaluation import RegressionEvaluator"
   ]
  },
  {
   "cell_type": "code",
   "execution_count": 21,
   "metadata": {},
   "outputs": [
    {
     "name": "stderr",
     "output_type": "stream",
     "text": [
      "24/11/05 12:45:52 WARN Utils: Service 'SparkUI' could not bind on port 4040. Attempting port 4041.\n"
     ]
    },
    {
     "name": "stdout",
     "output_type": "stream",
     "text": [
      "root\n",
      " |-- user_id: long (nullable = true)\n",
      " |-- item_id: long (nullable = true)\n",
      " |-- rating: double (nullable = true)\n",
      " |-- timestamp: string (nullable = true)\n",
      "\n",
      "+-------+-------+------+-------------------+\n",
      "|user_id|item_id|rating|          timestamp|\n",
      "+-------+-------+------+-------------------+\n",
      "|      1|    101|   4.5|2023-01-01 10:00:00|\n",
      "|      2|    105|   3.0|2023-01-01 11:15:00|\n",
      "|      1|    106|   5.0|2023-01-02 09:45:00|\n",
      "|      3|    103|   2.0|2023-01-02 15:20:00|\n",
      "|      2|    102|   4.0|2023-01-03 13:35:00|\n",
      "|      3|    104|   4.0|2023-01-03 17:00:00|\n",
      "|      1|    105|   3.5|2023-01-04 08:00:00|\n",
      "|      4|    101|   2.0|2023-01-04 10:00:00|\n",
      "|      4|    102|   3.5|2023-01-05 12:15:00|\n",
      "|      5|    103|   5.0|2023-01-05 14:30:00|\n",
      "|      6|    104|   4.5|2023-01-06 16:00:00|\n",
      "|      5|    106|   2.0|2023-01-07 09:15:00|\n",
      "|      7|    107|   4.0|2023-01-07 11:45:00|\n",
      "|      8|    108|   3.5|2023-01-08 13:25:00|\n",
      "|      9|    109|   4.0|2023-01-08 15:40:00|\n",
      "|     10|    110|   5.0|2023-01-09 08:50:00|\n",
      "|      1|    111|   3.0|2023-01-10 10:20:00|\n",
      "|      2|    112|   4.0|2023-01-10 12:30:00|\n",
      "|      3|    113|   2.5|2023-01-11 09:00:00|\n",
      "|      4|    114|   3.5|2023-01-11 14:45:00|\n",
      "+-------+-------+------+-------------------+\n",
      "only showing top 20 rows\n",
      "\n"
     ]
    }
   ],
   "source": [
    "spark = SparkSession.builder.appName(\"RecommendationSystemData\").getOrCreate()\n",
    "data = [\n",
    "    (1, 101, 4.5, \"2023-01-01 10:00:00\"),\n",
    "    (2, 105, 3.0, \"2023-01-01 11:15:00\"),\n",
    "    (1, 106, 5.0, \"2023-01-02 09:45:00\"),\n",
    "    (3, 103, 2.0, \"2023-01-02 15:20:00\"),\n",
    "    (2, 102, 4.0, \"2023-01-03 13:35:00\"),\n",
    "    (3, 104, 4.0, \"2023-01-03 17:00:00\"),\n",
    "    (1, 105, 3.5, \"2023-01-04 08:00:00\"),\n",
    "    (4, 101, 2.0, \"2023-01-04 10:00:00\"),\n",
    "    (4, 102, 3.5, \"2023-01-05 12:15:00\"),\n",
    "    (5, 103, 5.0, \"2023-01-05 14:30:00\"),\n",
    "    (6, 104, 4.5, \"2023-01-06 16:00:00\"),\n",
    "    (5, 106, 2.0, \"2023-01-07 09:15:00\"),\n",
    "    (7, 107, 4.0, \"2023-01-07 11:45:00\"),\n",
    "    (8, 108, 3.5, \"2023-01-08 13:25:00\"),\n",
    "    (9, 109, 4.0, \"2023-01-08 15:40:00\"),\n",
    "    (10, 110, 5.0, \"2023-01-09 08:50:00\"),\n",
    "    (1, 111, 3.0, \"2023-01-10 10:20:00\"),\n",
    "    (2, 112, 4.0, \"2023-01-10 12:30:00\"),\n",
    "    (3, 113, 2.5, \"2023-01-11 09:00:00\"),\n",
    "    (4, 114, 3.5, \"2023-01-11 14:45:00\"),\n",
    "    (5, 115, 4.5, \"2023-01-12 15:15:00\"),\n",
    "    (6, 116, 2.0, \"2023-01-12 17:30:00\"),\n",
    "    (7, 117, 5.0, \"2023-01-13 18:00:00\"),\n",
    "    (8, 118, 4.0, \"2023-01-14 10:30:00\"),\n",
    "    (9, 119, 3.0, \"2023-01-15 11:00:00\"),\n",
    "    (10, 120, 4.0, \"2023-01-15 12:15:00\"),\n",
    "    (1, 121, 3.5, \"2023-01-16 08:20:00\"),\n",
    "    (2, 122, 2.5, \"2023-01-16 14:30:00\"),\n",
    "    (3, 123, 5.0, \"2023-01-17 09:50:00\"),\n",
    "    (4, 124, 4.5, \"2023-01-18 10:10:00\"),\n",
    "    (5, 125, 3.0, \"2023-01-19 12:20:00\"),\n",
    "    (6, 126, 2.5, \"2023-01-20 15:35:00\"),\n",
    "    (7, 127, 4.0, \"2023-01-21 16:00:00\"),\n",
    "    (8, 128, 5.0, \"2023-01-22 10:45:00\"),\n",
    "    (9, 129, 3.5, \"2023-01-23 11:10:00\"),\n",
    "    (10, 130, 4.0, \"2023-01-24 12:30:00\"),\n",
    "    (1, 131, 2.0, \"2023-01-25 14:50:00\"),\n",
    "    (2, 132, 3.5, \"2023-01-26 09:15:00\"),\n",
    "    (3, 133, 4.5, \"2023-01-27 10:00:00\"),\n",
    "    (4, 134, 3.0, \"2023-01-28 13:30:00\"),\n",
    "    (5, 135, 4.0, \"2023-01-29 15:00:00\"),\n",
    "    (6, 136, 2.5, \"2023-01-30 17:20:00\"),\n",
    "    (7, 137, 5.0, \"2023-01-31 08:00:00\"),\n",
    "    (8, 138, 3.5, \"2023-02-01 09:45:00\"),\n",
    "    (9, 139, 4.0, \"2023-02-02 11:00:00\"),\n",
    "    (10, 140, 3.0, \"2023-02-03 14:00:00\"),\n",
    "]\n",
    "\n",
    "# The DataFrame creation code would remain the same\n",
    "\n",
    "columns = [\"user_id\", \"item_id\", \"rating\", \"timestamp\"]\n",
    "df = spark.createDataFrame(data, schema=columns)\n",
    "df.printSchema()\n",
    "df.show()\n"
   ]
  },
  {
   "cell_type": "code",
   "execution_count": 22,
   "metadata": {},
   "outputs": [
    {
     "name": "stdout",
     "output_type": "stream",
     "text": [
      "Root-mean-square error (RMSE) = 3.2791023973782187\n",
      "Mean Absolute Error (MAE) = 3.259059061606725\n",
      "R-squared = -63.51507519494949\n",
      "+-------+-------+------+-----------+\n",
      "|user_id|item_id|rating| prediction|\n",
      "+-------+-------+------+-----------+\n",
      "|      2|    102|   4.0|  0.7782879|\n",
      "|      1|    105|   3.5|-0.21991321|\n",
      "|      6|    104|   4.5|  1.6644481|\n",
      "+-------+-------+------+-----------+\n",
      "\n"
     ]
    }
   ],
   "source": [
    "df = df.drop(\"timestamp\")\n",
    "(train_data, test_data) = df.randomSplit([0.8, 0.2], seed=42)\n",
    "als = ALS(\n",
    "    maxIter=10,\n",
    "    regParam=0.1,\n",
    "    userCol=\"user_id\",\n",
    "    itemCol=\"item_id\",\n",
    "    ratingCol=\"rating\",\n",
    "    coldStartStrategy=\"drop\"\n",
    ")\n",
    "model = als.fit(train_data)\n",
    "predictions = model.transform(test_data)\n",
    "predictions = predictions.dropna(subset=[\"prediction\"])\n",
    "if predictions.count() == 0:\n",
    "    print(\"No predictions available for evaluation.\")\n",
    "else:\n",
    "    # Evaluate the model using RMSE\n",
    "    evaluator_rmse = RegressionEvaluator(metricName=\"rmse\", labelCol=\"rating\", predictionCol=\"prediction\")\n",
    "    rmse = evaluator_rmse.evaluate(predictions)\n",
    "    print(f\"Root-mean-square error (RMSE) = {rmse}\")\n",
    "\n",
    "    # Evaluate the model using MAE\n",
    "    evaluator_mae = RegressionEvaluator(metricName=\"mae\", labelCol=\"rating\", predictionCol=\"prediction\")\n",
    "    mae = evaluator_mae.evaluate(predictions)\n",
    "    print(f\"Mean Absolute Error (MAE) = {mae}\")\n",
    "\n",
    "    # Evaluate the model using R-squared\n",
    "    evaluator_r2 = RegressionEvaluator(metricName=\"r2\", labelCol=\"rating\", predictionCol=\"prediction\")\n",
    "    r2 = evaluator_r2.evaluate(predictions)\n",
    "    print(f\"R-squared = {r2}\")\n",
    "\n",
    "    # Show the predictions\n",
    "    predictions.show()\n"
   ]
  }
 ],
 "metadata": {
  "kernelspec": {
   "display_name": ".venv",
   "language": "python",
   "name": "python3"
  },
  "language_info": {
   "codemirror_mode": {
    "name": "ipython",
    "version": 3
   },
   "file_extension": ".py",
   "mimetype": "text/x-python",
   "name": "python",
   "nbconvert_exporter": "python",
   "pygments_lexer": "ipython3",
   "version": "3.9.6"
  }
 },
 "nbformat": 4,
 "nbformat_minor": 2
}
