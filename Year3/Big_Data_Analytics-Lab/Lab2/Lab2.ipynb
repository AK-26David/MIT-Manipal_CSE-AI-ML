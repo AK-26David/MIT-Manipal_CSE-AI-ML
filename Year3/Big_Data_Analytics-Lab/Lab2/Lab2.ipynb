{
 "cells": [
  {
   "cell_type": "markdown",
   "metadata": {},
   "source": [
    "# Lab 2 - Simple PySpark Programs #"
   ]
  },
  {
   "cell_type": "code",
   "execution_count": 14,
   "metadata": {},
   "outputs": [
    {
     "name": "stderr",
     "output_type": "stream",
     "text": [
      "/home/lplab/anaconda3/lib/python3.7/site-packages/pyspark/context.py:317: FutureWarning: Python 3.7 support is deprecated in Spark 3.4.\n",
      "  warnings.warn(\"Python 3.7 support is deprecated in Spark 3.4.\", FutureWarning)\n"
     ]
    }
   ],
   "source": [
    "import time\n",
    "from pyspark.sql import SparkSession\n",
    "from pyspark.sql import functions as F\n",
    "spark = SparkSession.builder.appName(\"Lab2\").getOrCreate()"
   ]
  },
  {
   "cell_type": "markdown",
   "metadata": {},
   "source": [
    "#### Q1) Implement a PySpark script that applies transformations like filter and withColumn on a Dataframe\n"
   ]
  },
  {
   "cell_type": "code",
   "execution_count": 15,
   "metadata": {},
   "outputs": [
    {
     "name": "stdout",
     "output_type": "stream",
     "text": [
      "Original DataFrame:\n",
      "+---+-----+---+-------------+\n",
      "| id| name|age|         city|\n",
      "+---+-----+---+-------------+\n",
      "|  1| John| 25|     New York|\n",
      "|  2|Alice| 30|San Francisco|\n",
      "|  3|  Bob| 20|     New York|\n",
      "|  4| Mary| 35|      Chicago|\n",
      "+---+-----+---+-------------+\n",
      "\n",
      "\n",
      "DataFrame after applying filter transformation:\n",
      "+---+-----+---+-------------+\n",
      "| id| name|age|         city|\n",
      "+---+-----+---+-------------+\n",
      "|  2|Alice| 30|San Francisco|\n",
      "|  4| Mary| 35|      Chicago|\n",
      "+---+-----+---+-------------+\n",
      "\n",
      "\n",
      "DataFrame after applying withColumn transformation:\n",
      "+---+-----+---+-------------+--------+\n",
      "| id| name|age|         city|is_adult|\n",
      "+---+-----+---+-------------+--------+\n",
      "|  1| John| 25|     New York|     Yes|\n",
      "|  2|Alice| 30|San Francisco|     Yes|\n",
      "|  3|  Bob| 20|     New York|     Yes|\n",
      "|  4| Mary| 35|      Chicago|     Yes|\n",
      "+---+-----+---+-------------+--------+\n",
      "\n"
     ]
    }
   ],
   "source": [
    "spark = SparkSession.builder.appName(\"Transformations\").getOrCreate()\n",
    "data = [\n",
    "    (1, \"John\", 25, \"New York\"),\n",
    "    (2, \"Alice\", 30, \"San Francisco\"),\n",
    "    (3, \"Bob\", 20, \"New York\"),\n",
    "    (4, \"Mary\", 35, \"Chicago\")\n",
    "]\n",
    "columns = [\"id\", \"name\", \"age\", \"city\"]\n",
    "df = spark.createDataFrame(data).toDF(*columns)\n",
    "print(\"Original DataFrame:\")\n",
    "df.show()\n",
    "filtered_df = df.filter(col(\"age\") > 25)\n",
    "print(\"\\nDataFrame after applying filter transformation:\")\n",
    "filtered_df.show()\n",
    "df_with_column = df.withColumn(\"is_adult\", when(col(\"age\") >= 18, \"Yes\").otherwise(\"No\"))\n",
    "print(\"\\nDataFrame after applying withColumn transformation:\")\n",
    "df_with_column.show()\n",
    "spark.stop()"
   ]
  },
  {
   "cell_type": "markdown",
   "metadata": {},
   "source": [
    "#### Q2) Write a PySpark script that performs actions like count and show on a DataFrame."
   ]
  },
  {
   "cell_type": "code",
   "execution_count": 16,
   "metadata": {},
   "outputs": [
    {
     "name": "stderr",
     "output_type": "stream",
     "text": [
      "/home/lplab/anaconda3/lib/python3.7/site-packages/pyspark/context.py:317: FutureWarning: Python 3.7 support is deprecated in Spark 3.4.\n",
      "  warnings.warn(\"Python 3.7 support is deprecated in Spark 3.4.\", FutureWarning)\n"
     ]
    },
    {
     "name": "stdout",
     "output_type": "stream",
     "text": [
      "Count:  3\n",
      "+-----+---+-------------+\n",
      "| Name|Age|         City|\n",
      "+-----+---+-------------+\n",
      "| John| 25|     New York|\n",
      "| Mary| 31|San Francisco|\n",
      "|David| 42|     New York|\n",
      "+-----+---+-------------+\n",
      "\n"
     ]
    }
   ],
   "source": [
    "spark = SparkSession.builder.appName(\"DataFrame Actions\").getOrCreate()\n",
    "data = [(\"John\", 25, \"New York\"),\n",
    "        (\"Mary\", 31, \"San Francisco\"),\n",
    "        (\"David\", 42, \"New York\")]\n",
    "columns = [\"Name\", \"Age\", \"City\"]\n",
    "df = spark.createDataFrame(data).toDF(*columns)\n",
    "count = df.count()\n",
    "print(\"Count: \", count)\n",
    "df.show()\n",
    "spark.stop()"
   ]
  },
  {
   "cell_type": "markdown",
   "metadata": {},
   "source": [
    "#### Q3) Demonstrate how to perform basic aggregations (e.g., sum, average) on a PySpark DataFrame"
   ]
  },
  {
   "cell_type": "code",
   "execution_count": 17,
   "metadata": {},
   "outputs": [
    {
     "name": "stderr",
     "output_type": "stream",
     "text": [
      "/home/lplab/anaconda3/lib/python3.7/site-packages/pyspark/context.py:317: FutureWarning: Python 3.7 support is deprecated in Spark 3.4.\n",
      "  warnings.warn(\"Python 3.7 support is deprecated in Spark 3.4.\", FutureWarning)\n"
     ]
    },
    {
     "name": "stdout",
     "output_type": "stream",
     "text": [
      "Sum of Salaries:  150000.0\n",
      "Average of Salaries:  30000.0\n",
      "+-----+------------+--------------+\n",
      "| Name|Total Salary|Average Salary|\n",
      "+-----+------------+--------------+\n",
      "| John|     30000.0|       15000.0|\n",
      "| Mary|     70000.0|       35000.0|\n",
      "|David|     50000.0|       50000.0|\n",
      "+-----+------------+--------------+\n",
      "\n",
      "+---+------------+--------------+\n",
      "|Age|Total Salary|Average Salary|\n",
      "+---+------------+--------------+\n",
      "| 25|     30000.0|       15000.0|\n",
      "| 31|     70000.0|       35000.0|\n",
      "| 42|     50000.0|       50000.0|\n",
      "+---+------------+--------------+\n",
      "\n"
     ]
    }
   ],
   "source": [
    "spark = SparkSession.builder.appName(\"DataFrame Aggregations\").getOrCreate()\n",
    "data = [(\"John\", 25, 10000.0),\n",
    "        (\"John\", 25, 20000.0),\n",
    "        (\"Mary\", 31, 30000.0),\n",
    "        (\"Mary\", 31, 40000.0),\n",
    "        (\"David\", 42, 50000.0)]\n",
    "columns = [\"Name\", \"Age\", \"Salary\"]\n",
    "df = spark.createDataFrame(data).toDF(*columns)\n",
    "sum_salary = df.agg(F.sum(\"Salary\")).collect()[0][0]\n",
    "print(\"Sum of Salaries: \", sum_salary)\n",
    "avg_salary = df.agg(F.avg(\"Salary\")).collect()[0][0]\n",
    "print(\"Average of Salaries: \", avg_salary)\n",
    "df.groupBy(\"Name\").agg(F.sum(\"Salary\").alias(\"Total Salary\"), F.avg(\"Salary\").alias(\"Average Salary\")).show()\n",
    "df.groupBy(\"Age\").agg(F.sum(\"Salary\").alias(\"Total Salary\"), F.avg(\"Salary\").alias(\"Average Salary\")).show()\n",
    "spark.stop()"
   ]
  },
  {
   "cell_type": "markdown",
   "metadata": {},
   "source": [
    "#### Q4) Show how to write a PySpark DataFrame to a CSV file."
   ]
  },
  {
   "cell_type": "code",
   "execution_count": 18,
   "metadata": {},
   "outputs": [
    {
     "name": "stderr",
     "output_type": "stream",
     "text": [
      "/home/lplab/anaconda3/lib/python3.7/site-packages/pyspark/context.py:317: FutureWarning: Python 3.7 support is deprecated in Spark 3.4.\n",
      "  warnings.warn(\"Python 3.7 support is deprecated in Spark 3.4.\", FutureWarning)\n"
     ]
    }
   ],
   "source": [
    "from pyspark.sql import SparkSession\n",
    "spark = SparkSession.builder.appName(\"DataFrame to CSV\").getOrCreate()\n",
    "data = [(\"John\", 25, \"New York\"),\n",
    "        (\"Mary\", 31, \"San Francisco\"),\n",
    "        (\"David\", 42, \"New York\")]\n",
    "columns = [\"Name\", \"Age\", \"City\"]\n",
    "df = spark.createDataFrame(data).toDF(*columns)\n",
    "df.write.csv(\"people.csv\", header=True)\n",
    "spark.stop()"
   ]
  },
  {
   "cell_type": "markdown",
   "metadata": {},
   "source": [
    "#### Q5) Implement wordcount program in PySpark."
   ]
  },
  {
   "cell_type": "code",
   "execution_count": 20,
   "metadata": {},
   "outputs": [
    {
     "name": "stderr",
     "output_type": "stream",
     "text": [
      "/home/lplab/anaconda3/lib/python3.7/site-packages/pyspark/context.py:317: FutureWarning: Python 3.7 support is deprecated in Spark 3.4.\n",
      "  warnings.warn(\"Python 3.7 support is deprecated in Spark 3.4.\", FutureWarning)\n"
     ]
    },
    {
     "name": "stdout",
     "output_type": "stream",
     "text": [
      "name: 1\n",
      "is: 2\n",
      "arnav: 1\n",
      "i: 2\n",
      "am: 2\n",
      "saviour: 1\n",
      "protector: 1\n",
      "of: 1\n",
      "this: 1\n",
      "hadoop: 2\n",
      "are: 1\n",
      "hadoop.: 1\n",
      "my: 1\n",
      "karnik: 1\n",
      "and: 2\n",
      "the: 1\n",
      "world.: 1\n",
      "you: 1\n",
      "everyone: 1\n"
     ]
    }
   ],
   "source": [
    "from pyspark.sql import SparkSession\n",
    "spark = SparkSession.builder.appName(\"Word Count\").getOrCreate()\n",
    "text_file = spark.sparkContext.textFile(\"input.txt\")\n",
    "words = text_file.flatMap(lambda line: line.split(\" \"))\n",
    "words_lower = words.map(lambda word: word.lower())\n",
    "words_non_empty = words_lower.filter(lambda word: word != \"\")\n",
    "word_counts = words_non_empty.map(lambda word: (word, 1)).reduceByKey(lambda a, b: a + b)\n",
    "for word, count in word_counts.collect():\n",
    "    print(f\"{word}: {count}\")\n",
    "spark.stop()"
   ]
  },
  {
   "cell_type": "code",
   "execution_count": null,
   "metadata": {},
   "outputs": [],
   "source": []
  }
 ],
 "metadata": {
  "kernelspec": {
   "display_name": "Python 3",
   "language": "python",
   "name": "python3"
  },
  "language_info": {
   "codemirror_mode": {
    "name": "ipython",
    "version": 3
   },
   "file_extension": ".py",
   "mimetype": "text/x-python",
   "name": "python",
   "nbconvert_exporter": "python",
   "pygments_lexer": "ipython3",
   "version": "3.7.0"
  }
 },
 "nbformat": 4,
 "nbformat_minor": 2
}
