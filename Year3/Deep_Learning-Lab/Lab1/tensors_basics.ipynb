{
 "cells": [
  {
   "cell_type": "markdown",
   "metadata": {},
   "source": [
    "# Tensors Basics #"
   ]
  },
  {
   "cell_type": "code",
   "execution_count": 2,
   "metadata": {},
   "outputs": [],
   "source": [
    "import torch\n",
    "import numpy as np "
   ]
  },
  {
   "cell_type": "markdown",
   "metadata": {},
   "source": [
    "### 1.) Creating a Tensor "
   ]
  },
  {
   "cell_type": "code",
   "execution_count": 3,
   "metadata": {},
   "outputs": [],
   "source": [
    "data1=[1,2,3,4,5,6,7]\n",
    "data2=np.array([1.5,2.5,3.5,4.5,5.5,6.5,7.5])"
   ]
  },
  {
   "cell_type": "code",
   "execution_count": 5,
   "metadata": {},
   "outputs": [
    {
     "name": "stdout",
     "output_type": "stream",
     "text": [
      "tensor([1, 2, 3, 4, 5, 6, 7])\n"
     ]
    }
   ],
   "source": [
    "t1=torch.tensor(data1)\n",
    "print(t1)"
   ]
  },
  {
   "cell_type": "code",
   "execution_count": 6,
   "metadata": {},
   "outputs": [
    {
     "name": "stdout",
     "output_type": "stream",
     "text": [
      "tensor([1., 2., 3., 4., 5., 6., 7.])\n"
     ]
    }
   ],
   "source": [
    "t1=torch.Tensor(data1)\n",
    "print(t1)"
   ]
  },
  {
   "cell_type": "code",
   "execution_count": 7,
   "metadata": {},
   "outputs": [
    {
     "name": "stdout",
     "output_type": "stream",
     "text": [
      "tensor([1, 2, 3, 4, 5, 6, 7])\n"
     ]
    }
   ],
   "source": [
    "t1=torch.as_tensor(data1)\n",
    "print(t1)"
   ]
  },
  {
   "cell_type": "code",
   "execution_count": 8,
   "metadata": {},
   "outputs": [
    {
     "name": "stdout",
     "output_type": "stream",
     "text": [
      "tensor([1.5000, 2.5000, 3.5000, 4.5000, 5.5000, 6.5000, 7.5000],\n",
      "       dtype=torch.float64)\n"
     ]
    }
   ],
   "source": [
    "t2=torch.from_numpy(data2)\n",
    "print(t2)"
   ]
  },
  {
   "cell_type": "markdown",
   "metadata": {},
   "source": [
    "### 2.) Creating a random tensor and finding details #"
   ]
  },
  {
   "cell_type": "code",
   "execution_count": 12,
   "metadata": {},
   "outputs": [
    {
     "name": "stdout",
     "output_type": "stream",
     "text": [
      "tensor([[0.0072, 0.5734, 0.4472],\n",
      "        [0.2685, 0.5442, 0.8123],\n",
      "        [0.1473, 0.3943, 0.7812]])\n"
     ]
    }
   ],
   "source": [
    "some_tensor= torch.rand(3,3)\n",
    "print(some_tensor)"
   ]
  },
  {
   "cell_type": "code",
   "execution_count": 16,
   "metadata": {},
   "outputs": [
    {
     "data": {
      "text/plain": [
       "torch.Size([3, 3])"
      ]
     },
     "execution_count": 16,
     "metadata": {},
     "output_type": "execute_result"
    }
   ],
   "source": [
    "some_tensor.shape\n"
   ]
  },
  {
   "cell_type": "code",
   "execution_count": 17,
   "metadata": {},
   "outputs": [
    {
     "data": {
      "text/plain": [
       "torch.float32"
      ]
     },
     "execution_count": 17,
     "metadata": {},
     "output_type": "execute_result"
    }
   ],
   "source": [
    "some_tensor.dtype"
   ]
  },
  {
   "cell_type": "code",
   "execution_count": 18,
   "metadata": {},
   "outputs": [
    {
     "data": {
      "text/plain": [
       "device(type='cpu')"
      ]
     },
     "execution_count": 18,
     "metadata": {},
     "output_type": "execute_result"
    }
   ],
   "source": [
    "some_tensor.device"
   ]
  },
  {
   "cell_type": "markdown",
   "metadata": {},
   "source": [
    "### 3.) Restructuring Tensors ###"
   ]
  },
  {
   "cell_type": "code",
   "execution_count": 5,
   "metadata": {},
   "outputs": [
    {
     "name": "stdout",
     "output_type": "stream",
     "text": [
      "tensor([[0.5382, 0.4915, 0.9389, 0.1469],\n",
      "        [0.7313, 0.1327, 0.4245, 0.1572],\n",
      "        [0.3085, 0.3850, 0.6520, 0.4683]])\n"
     ]
    }
   ],
   "source": [
    "t1=torch.rand(3,4)\n",
    "print(t1)"
   ]
  },
  {
   "cell_type": "code",
   "execution_count": 7,
   "metadata": {},
   "outputs": [
    {
     "data": {
      "text/plain": [
       "tensor([[0.5382, 0.4915, 0.9389],\n",
       "        [0.1469, 0.7313, 0.1327],\n",
       "        [0.4245, 0.1572, 0.3085],\n",
       "        [0.3850, 0.6520, 0.4683]])"
      ]
     },
     "execution_count": 7,
     "metadata": {},
     "output_type": "execute_result"
    }
   ],
   "source": [
    "t1.reshape(4,3)"
   ]
  },
  {
   "cell_type": "code",
   "execution_count": 8,
   "metadata": {},
   "outputs": [
    {
     "name": "stderr",
     "output_type": "stream",
     "text": [
      "/Users/arnavkarnik/Documents/MIT-Manipal_CSE-AI-ML/.venv/lib/python3.9/site-packages/torch/_tensor.py:955: UserWarning: non-inplace resize is deprecated\n",
      "  warnings.warn(\"non-inplace resize is deprecated\")\n"
     ]
    },
    {
     "data": {
      "text/plain": [
       "tensor([[0.5382, 0.4915, 0.9389],\n",
       "        [0.1469, 0.7313, 0.1327],\n",
       "        [0.4245, 0.1572, 0.3085],\n",
       "        [0.3850, 0.6520, 0.4683]])"
      ]
     },
     "execution_count": 8,
     "metadata": {},
     "output_type": "execute_result"
    }
   ],
   "source": [
    "t1.resize(4,3)"
   ]
  },
  {
   "cell_type": "markdown",
   "metadata": {},
   "source": [
    "##### Indexing a Tensor #####"
   ]
  },
  {
   "cell_type": "code",
   "execution_count": 20,
   "metadata": {},
   "outputs": [
    {
     "data": {
      "text/plain": [
       "tensor(0.4245)"
      ]
     },
     "execution_count": 20,
     "metadata": {},
     "output_type": "execute_result"
    }
   ],
   "source": [
    "t1[1,2]"
   ]
  },
  {
   "cell_type": "markdown",
   "metadata": {},
   "source": [
    "### 4.) Matrix Multiplication in Tensors ###"
   ]
  },
  {
   "cell_type": "markdown",
   "metadata": {},
   "source": [
    "##### a) Matrix Multiplication using Transpose "
   ]
  },
  {
   "cell_type": "code",
   "execution_count": 21,
   "metadata": {},
   "outputs": [
    {
     "name": "stdout",
     "output_type": "stream",
     "text": [
      "tensor([[1.0549, 1.0438, 0.7478],\n",
      "        [0.7722, 0.6045, 0.6599],\n",
      "        [0.9948, 0.8671, 0.7879]])\n"
     ]
    }
   ],
   "source": [
    "t1=torch.rand(3,2)\n",
    "t2=torch.rand(3,2)\n",
    "t3=torch.matmul(t1,t2.T)\n",
    "print(t3)"
   ]
  },
  {
   "cell_type": "markdown",
   "metadata": {},
   "source": [
    "##### b) Using torch.mm()"
   ]
  },
  {
   "cell_type": "code",
   "execution_count": 22,
   "metadata": {},
   "outputs": [
    {
     "name": "stdout",
     "output_type": "stream",
     "text": [
      "tensor([[0.8829, 0.4164, 1.1491, 1.0855, 1.0619, 0.5379],\n",
      "        [0.7439, 1.0089, 1.5562, 1.1600, 1.7166, 0.8323],\n",
      "        [0.9573, 0.8896, 1.2955, 1.2196, 1.3903, 0.8132],\n",
      "        [1.4168, 0.9766, 2.0265, 1.7177, 1.9613, 1.0038]])\n"
     ]
    }
   ],
   "source": [
    "t1=torch.rand(4,5)\n",
    "t2=torch.rand(5,6)\n",
    "t3=torch.mm(t1,t2,out=None)\n",
    "print(t3)\n"
   ]
  },
  {
   "cell_type": "markdown",
   "metadata": {},
   "source": [
    "##### c) Using torch.matmul()"
   ]
  },
  {
   "cell_type": "code",
   "execution_count": 29,
   "metadata": {},
   "outputs": [
    {
     "name": "stdout",
     "output_type": "stream",
     "text": [
      "tensor([[1.8747, 1.7904, 1.8425, 1.1411, 2.3361, 1.9493, 2.3277, 2.4531, 2.1082],\n",
      "        [1.7552, 1.7735, 2.1848, 2.2461, 3.1910, 2.0649, 1.7584, 2.6394, 2.2147],\n",
      "        [1.9727, 1.7262, 2.3651, 2.5013, 3.3675, 2.5335, 2.1102, 2.8234, 2.7549],\n",
      "        [1.6720, 1.7895, 1.6926, 1.4487, 2.3873, 2.0101, 2.1152, 2.1658, 1.8751],\n",
      "        [1.1594, 1.5365, 1.2476, 0.9574, 1.7169, 1.5696, 1.6820, 1.6158, 1.5419],\n",
      "        [1.9408, 1.2140, 1.9759, 2.1907, 2.7517, 2.1331, 1.6945, 2.6492, 2.1572],\n",
      "        [2.3042, 2.1284, 2.1287, 2.5186, 3.4738, 2.7831, 1.9783, 2.9613, 2.5603]])\n"
     ]
    }
   ],
   "source": [
    "t1=torch.rand(7,8)\n",
    "t2=torch.rand(8,9)\n",
    "t3=torch.matmul(t1,t2,out=None)\n",
    "print(t3)"
   ]
  },
  {
   "cell_type": "markdown",
   "metadata": {},
   "source": [
    "##### d) Using torch.bmm()"
   ]
  },
  {
   "cell_type": "code",
   "execution_count": 31,
   "metadata": {},
   "outputs": [
    {
     "name": "stdout",
     "output_type": "stream",
     "text": [
      "tensor([[[1.1131, 0.5593, 0.9149],\n",
      "         [0.6328, 0.1585, 0.6101],\n",
      "         [0.5456, 0.2602, 0.5377]],\n",
      "\n",
      "        [[0.8530, 0.8889, 0.7851],\n",
      "         [0.3471, 0.6850, 0.7182],\n",
      "         [0.4068, 0.8159, 0.9539]],\n",
      "\n",
      "        [[1.2085, 0.8464, 1.4425],\n",
      "         [0.6024, 0.3080, 0.9608],\n",
      "         [0.6064, 0.4234, 0.7324]]])\n"
     ]
    }
   ],
   "source": [
    "t1=torch.rand(3,3,3)\n",
    "t2=torch.rand(3,3,3)\n",
    "t3=torch.bmm(t1,t2,out=None)\n",
    "print(t3)"
   ]
  },
  {
   "cell_type": "markdown",
   "metadata": {},
   "source": [
    "##### e) Using @ operator "
   ]
  },
  {
   "cell_type": "code",
   "execution_count": 32,
   "metadata": {},
   "outputs": [
    {
     "name": "stdout",
     "output_type": "stream",
     "text": [
      "tensor([[[[0.9720, 0.8484, 0.6735, 0.7445],\n",
      "          [1.3046, 0.8786, 0.4609, 0.7810],\n",
      "          [1.2870, 1.0358, 0.7012, 1.0770],\n",
      "          [1.0964, 0.8266, 0.4384, 0.7704]],\n",
      "\n",
      "         [[1.4333, 1.7672, 1.1383, 1.7362],\n",
      "          [0.9481, 0.7073, 0.3460, 1.0509],\n",
      "          [1.8619, 2.3827, 1.5812, 2.1996],\n",
      "          [1.2555, 1.8145, 1.2017, 1.5609]],\n",
      "\n",
      "         [[0.8438, 0.8597, 0.4367, 1.4943],\n",
      "          [1.2024, 0.9383, 0.5457, 1.9320],\n",
      "          [0.7880, 0.6110, 0.3418, 1.5631],\n",
      "          [1.0937, 0.8626, 0.5276, 1.5262]],\n",
      "\n",
      "         [[1.1446, 1.6451, 1.5844, 0.7820],\n",
      "          [0.9360, 1.5237, 1.4522, 0.5653],\n",
      "          [1.1868, 1.2081, 1.2447, 0.9833],\n",
      "          [0.2634, 0.2716, 0.1760, 0.1530]]],\n",
      "\n",
      "\n",
      "        [[[2.0876, 2.4066, 1.1055, 1.0906],\n",
      "          [1.0422, 1.4038, 1.0333, 0.8256],\n",
      "          [1.8429, 2.4410, 1.1663, 1.1947],\n",
      "          [1.0049, 1.1494, 0.6038, 0.6349]],\n",
      "\n",
      "         [[0.9801, 0.8900, 1.0483, 1.4065],\n",
      "          [0.3798, 0.3695, 0.3986, 0.3919],\n",
      "          [0.3449, 0.3564, 0.4207, 0.6637],\n",
      "          [0.9899, 1.1835, 0.9513, 1.4357]],\n",
      "\n",
      "         [[1.2572, 1.3976, 0.9819, 1.2184],\n",
      "          [0.6706, 1.2425, 1.3506, 1.4726],\n",
      "          [1.6713, 2.0277, 1.5105, 2.0135],\n",
      "          [0.7029, 1.0946, 0.3757, 0.8063]],\n",
      "\n",
      "         [[0.3992, 1.3535, 0.6969, 0.9852],\n",
      "          [0.5566, 1.8471, 1.0057, 1.2392],\n",
      "          [0.1420, 1.1593, 0.2251, 0.9728],\n",
      "          [0.5307, 1.9802, 0.8444, 1.4896]]],\n",
      "\n",
      "\n",
      "        [[[1.2865, 0.9980, 0.6500, 1.0074],\n",
      "          [1.7695, 1.2815, 1.0924, 1.4681],\n",
      "          [1.0287, 0.7521, 0.4526, 0.8816],\n",
      "          [1.9621, 1.2057, 1.6286, 1.3136]],\n",
      "\n",
      "         [[0.6515, 0.8759, 0.6413, 0.2464],\n",
      "          [0.8500, 0.9381, 0.7487, 0.3125],\n",
      "          [0.5699, 1.2940, 0.8403, 0.5490],\n",
      "          [0.5580, 1.0217, 0.8142, 0.6320]],\n",
      "\n",
      "         [[0.8923, 0.2687, 0.3882, 0.6673],\n",
      "          [1.0256, 0.5773, 0.7699, 0.7093],\n",
      "          [2.0032, 1.1997, 2.0132, 0.9990],\n",
      "          [0.8933, 0.5010, 0.6933, 0.6007]],\n",
      "\n",
      "         [[1.4683, 0.8726, 0.8389, 0.9458],\n",
      "          [1.4404, 1.3698, 0.5796, 0.8728],\n",
      "          [1.0474, 1.1270, 0.5224, 0.6236],\n",
      "          [1.1493, 1.4399, 0.3983, 0.5930]]],\n",
      "\n",
      "\n",
      "        [[[1.1388, 0.4315, 1.0419, 0.7268],\n",
      "          [0.8275, 0.4468, 0.6472, 0.6392],\n",
      "          [1.7127, 0.8059, 1.3925, 1.0799],\n",
      "          [0.9146, 0.6680, 0.7710, 0.5700]],\n",
      "\n",
      "         [[1.5608, 1.0185, 1.8153, 1.1103],\n",
      "          [1.2686, 1.2008, 1.3018, 1.0270],\n",
      "          [1.3525, 1.0974, 1.3584, 0.9449],\n",
      "          [1.9402, 1.5096, 2.0766, 1.4148]],\n",
      "\n",
      "         [[0.5592, 0.5168, 0.9076, 0.4993],\n",
      "          [0.4915, 0.4644, 0.8323, 0.4555],\n",
      "          [0.3010, 0.9483, 0.6805, 0.8689],\n",
      "          [0.2824, 0.3744, 0.7034, 0.2276]],\n",
      "\n",
      "         [[1.3870, 1.2780, 1.2035, 1.5520],\n",
      "          [0.3626, 0.4720, 0.4948, 0.7753],\n",
      "          [0.8098, 1.2410, 1.1763, 1.6556],\n",
      "          [1.1819, 1.2231, 1.5677, 2.0134]]]])\n"
     ]
    }
   ],
   "source": [
    "t1=torch.rand(4,4,4,4)\n",
    "t2=torch.rand(4,4,4,4)\n",
    "t3=t1@t2\n",
    "print(t3)"
   ]
  }
 ],
 "metadata": {
  "kernelspec": {
   "display_name": ".venv",
   "language": "python",
   "name": "python3"
  },
  "language_info": {
   "codemirror_mode": {
    "name": "ipython",
    "version": 3
   },
   "file_extension": ".py",
   "mimetype": "text/x-python",
   "name": "python",
   "nbconvert_exporter": "python",
   "pygments_lexer": "ipython3",
   "version": "3.9.6"
  }
 },
 "nbformat": 4,
 "nbformat_minor": 2
}
