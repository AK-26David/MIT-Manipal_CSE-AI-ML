{
 "cells": [
  {
   "cell_type": "markdown",
   "metadata": {},
   "source": [
    "# LSTM_Exam Implementation "
   ]
  },
  {
   "cell_type": "code",
   "execution_count": 35,
   "metadata": {},
   "outputs": [],
   "source": [
    "import torch \n",
    "import numpy as np\n",
    "import pandas as pd \n",
    "import matplotlib.pyplot as plt\n",
    "from sklearn.model_selection import train_test_split\n",
    "from sklearn.metrics import mean_squared_error\n",
    "import torch.nn as nn \n",
    "from sklearn.metrics import accuracy_score, precision_score, recall_score\n"
   ]
  },
  {
   "cell_type": "code",
   "execution_count": 23,
   "metadata": {},
   "outputs": [],
   "source": [
    "df = pd.read_csv('daily_csv.csv')\n",
    "df = df.dropna()\n",
    "prices = df['Price'].values\n",
    "minn, maxx = prices.min(), prices.max()\n",
    "prices = (prices - minn) / (maxx - minn)\n",
    "X, y = [], []\n",
    "sequence_length = 10\n",
    "for i in range(5900):\n",
    "    l = []\n",
    "    for j in range(i, i + sequence_length):\n",
    "        l.append(prices[j])\n",
    "    X.append(l)\n",
    "    y.append(prices[i + sequence_length])\n",
    "X, y = np.array(X), np.array(y)"
   ]
  },
  {
   "cell_type": "code",
   "execution_count": 24,
   "metadata": {},
   "outputs": [],
   "source": [
    "xtrain, xtest, ytrain, ytest = train_test_split(X, y, test_size= 0.10, random_state= 42, stratify= None)"
   ]
  },
  {
   "cell_type": "code",
   "execution_count": 25,
   "metadata": {},
   "outputs": [],
   "source": [
    "class Data(torch.utils.data.Dataset):\n",
    "    def __init__(self, x, y):\n",
    "        super().__init__()\n",
    "        self.x = torch.tensor(x, dtype= torch.float32)\n",
    "        self.y = torch.tensor(y, dtype= torch.float32)\n",
    "    def __len__(self):\n",
    "        return len(self.y)\n",
    "    def __getitem__(self, index):\n",
    "        return self.x[index], self.y[index]"
   ]
  },
  {
   "cell_type": "code",
   "execution_count": 26,
   "metadata": {},
   "outputs": [],
   "source": [
    "train = Data(xtrain, ytrain)\n",
    "test = Data(xtest, ytest)\n",
    "train_loader = torch.utils.data.DataLoader(train, batch_size= 256, shuffle= True, drop_last= True)\n",
    "test_loader = torch.utils.data.DataLoader(test, batch_size= 256, drop_last= True)"
   ]
  },
  {
   "cell_type": "markdown",
   "metadata": {},
   "source": [
    "### LSTM Model ###"
   ]
  },
  {
   "cell_type": "code",
   "execution_count": 27,
   "metadata": {},
   "outputs": [],
   "source": [
    "class LSTMModel(nn.Module):\n",
    "    def __init__(self, input_dim, hidden_dim, num_layers, dropout=0.3):\n",
    "        super(LSTMModel, self).__init__()\n",
    "        self.lstm = nn.LSTM(input_dim, hidden_dim, num_layers, \n",
    "                            dropout=dropout, batch_first=True)\n",
    "        self.fc = nn.Linear(hidden_dim, 1)\n",
    "    \n",
    "    def forward(self, x):\n",
    "        out, _ = self.lstm(x)\n",
    "        out = out[:, -1, :]  # get the last time step\n",
    "        out = self.fc(out)\n",
    "        return out"
   ]
  },
  {
   "cell_type": "code",
   "execution_count": 28,
   "metadata": {},
   "outputs": [],
   "source": [
    "model = Network()\n",
    "model = model.to('cpu')\n",
    "criterion = torch.nn.MSELoss()\n",
    "optimizer = torch.optim.Adam(model.parameters(), lr= 0.001, weight_decay= 0.0001)"
   ]
  },
  {
   "cell_type": "code",
   "execution_count": null,
   "metadata": {},
   "outputs": [
    {
     "name": "stdout",
     "output_type": "stream",
     "text": [
      "Epoch 0 | Train Loss: 18.5808 | Val Loss: 4.2939\n",
      "Epoch 50 | Train Loss: 17.1925 | Val Loss: 4.3270\n",
      "Epoch 100 | Train Loss: 16.8783 | Val Loss: 4.2751\n",
      "Epoch 150 | Train Loss: 16.5075 | Val Loss: 4.2032\n",
      "Epoch 200 | Train Loss: 14.5970 | Val Loss: 4.5192\n",
      "Early stopping triggered at epoch 234\n"
     ]
    }
   ],
   "source": [
    "def l1_l2_regularization(model, l1_lambda=1e-5, l2_lambda=1e-4):\n",
    "    l1_norm = sum(p.abs().sum() for p in model.parameters())\n",
    "    l2_norm = sum((p ** 2).sum() for p in model.parameters())\n",
    "    return l1_lambda * l1_norm + l2_lambda * l2_norm\n",
    "\n",
    "# ----- Early Stopping Setup -----\n",
    "best_val_loss = float('inf')\n",
    "patience = 100\n",
    "patience_counter = 0\n",
    "best_model_state = None\n",
    "\n",
    "# ----- Training Loop -----\n",
    "for epoch in range(1500):\n",
    "    model.train()\n",
    "    running_loss = 0.0\n",
    "    for input, target in train_loader:\n",
    "        optimizer.zero_grad()\n",
    "        input, target = input.reshape((-1, sequence_length, 1)), target\n",
    "        output = model(input).reshape(-1)\n",
    "        loss = criterion(output, target)\n",
    "        loss += l1_l2_regularization(model)  # Add L1/L2 penalty\n",
    "        loss.backward()\n",
    "        optimizer.step()\n",
    "        running_loss += loss.item()\n",
    "    \n",
    "    # ----- Validation Step (with metrics) ----\n",
    "    model.eval()\n",
    "val_loss = 0.0\n",
    "all_preds = []\n",
    "all_targets = []\n",
    "\n",
    "with torch.no_grad():\n",
    "    for val_input, val_target in val_loader:\n",
    "        val_input, val_target = val_input.reshape((-1, sequence_length, 1)), val_target\n",
    "        val_output = model(val_input).reshape(-1)\n",
    "        \n",
    "        # Use sigmoid if output is raw logits (no activation in model)\n",
    "        val_probs = torch.sigmoid(val_output)\n",
    "        val_preds = (val_probs > 0.5).int()  # Threshold at 0.5\n",
    "        \n",
    "        all_preds.extend(val_preds.tolist())\n",
    "        all_targets.extend(val_target.int().tolist())\n",
    "        \n",
    "        v_loss = criterion(val_output, val_target.float())\n",
    "        val_loss += v_loss.item()\n",
    "\n",
    "# ----- Compute Metrics -----\n",
    "accuracy = accuracy_score(all_targets, all_preds)\n",
    "precision = precision_score(all_targets, all_preds, zero_division=0)\n",
    "recall = recall_score(all_targets, all_preds, zero_division=0)\n",
    "\n",
    "if epoch % 50 == 0:\n",
    "    print(f\"Epoch {epoch} | Train Loss: {running_loss:.4f} | Val Loss: {val_loss:.4f}\")\n",
    "    print(f\"→ Accuracy: {accuracy:.4f} | Precision: {precision:.4f} | Recall: {recall:.4f}\")\n",
    "\n",
    "    \n",
    "    # ----- Early Stopping -----\n",
    "    if val_loss < best_val_loss:\n",
    "        best_val_loss = val_loss\n",
    "        best_model_state = copy.deepcopy(model.state_dict())\n",
    "        patience_counter = 0\n",
    "    else:\n",
    "        patience_counter += 1\n",
    "        if patience_counter >= patience:\n",
    "            print(f\"Early stopping triggered at epoch {epoch}\")\n",
    "            break\n",
    "\n",
    "    if epoch % 50 == 0:\n",
    "        print(f\"Epoch {epoch} | Train Loss: {running_loss:.4f} | Val Loss: {val_loss:.4f}\")\n",
    "\n",
    "# ----- Load Best Model -----\n",
    "if best_model_state is not None:\n",
    "    model.load_state_dict(best_model_state)\n"
   ]
  },
  {
   "cell_type": "code",
   "execution_count": 36,
   "metadata": {},
   "outputs": [],
   "source": [
    "model.eval()\n",
    "all_pred, all_label = [], []\n",
    "with torch.no_grad():\n",
    "    for input, target in test_loader:\n",
    "        input, target = input.reshape((-1, sequence_length, 1)).to('cpu'), target.to('cpu')\n",
    "        output = model(input).reshape(-1)\n",
    "        all_pred.extend(output.to('cpu').detach().numpy())\n",
    "        all_label.extend(target.to('cpu').detach().numpy())"
   ]
  },
  {
   "cell_type": "code",
   "execution_count": 37,
   "metadata": {},
   "outputs": [
    {
     "name": "stdout",
     "output_type": "stream",
     "text": [
      "0.05574455110680054\n"
     ]
    }
   ],
   "source": [
    "print(mean_squared_error(all_pred, all_label))"
   ]
  },
  {
   "cell_type": "code",
   "execution_count": 38,
   "metadata": {},
   "outputs": [
    {
     "data": {
      "image/png": "[encoded data removed]",
      "text/plain": [
       "<Figure size 800x500 with 1 Axes>"
      ]
     },
     "metadata": {},
     "output_type": "display_data"
    }
   ],
   "source": [
    "# Plot 1: Training Loss\n",
    "plt.figure(figsize=(8, 5))\n",
    "plt.plot(running_loss, label=\"Training Loss\")\n",
    "plt.xlabel(\"Epoch\")\n",
    "plt.ylabel(\"Loss\")\n",
    "plt.title(\"Training Loss Over Epochs\")\n",
    "plt.legend()\n",
    "plt.grid(True)\n",
    "plt.show()\n"
   ]
  },
  {
   "cell_type": "markdown",
   "metadata": {},
   "source": [
    "### Number of Parameters ###"
   ]
  },
  {
   "cell_type": "code",
   "execution_count": 39,
   "metadata": {},
   "outputs": [
    {
     "name": "stdout",
     "output_type": "stream",
     "text": [
      "LSTM Parameters: 160\n"
     ]
    }
   ],
   "source": [
    "lstm = torch.nn.LSTM(input_size=1, hidden_size=5, batch_first=True)\n",
    "params = sum(p.numel() for p in lstm.parameters() if p.requires_grad)\n",
    "print(f\"LSTM Parameters: {params}\")\n"
   ]
  }
 ],
 "metadata": {
  "kernelspec": {
   "display_name": "venv",
   "language": "python",
   "name": "python3"
  },
  "language_info": {
   "codemirror_mode": {
    "name": "ipython",
    "version": 3
   },
   "file_extension": ".py",
   "mimetype": "text/x-python",
   "name": "python",
   "nbconvert_exporter": "python",
   "pygments_lexer": "ipython3",
   "version": "3.12.4"
  }
 },
 "nbformat": 4,
 "nbformat_minor": 2
}
